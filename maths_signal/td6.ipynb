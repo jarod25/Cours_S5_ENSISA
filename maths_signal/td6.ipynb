{
 "cells": [
  {
   "cell_type": "code",
   "execution_count": null,
   "metadata": {},
   "outputs": [],
   "source": [
    "import numpy as np\n",
    "from my_signal import Signal "
   ]
  },
  {
   "cell_type": "code",
   "execution_count": null,
   "metadata": {},
   "outputs": [],
   "source": [
    "A = 2\n",
    "f = 440\n",
    "std = np.sqrt(2)\n",
    "\n",
    "sampling_frequency = 44100\n",
    "acquisition_duration = 0.01"
   ]
  },
  {
   "cell_type": "code",
   "execution_count": null,
   "metadata": {},
   "outputs": [],
   "source": [
    "def x(t):\n",
    "    return A * np.sin(2 * np.pi *  f * t)\n",
    "x_signal = Signal(x, sampling_frequency)\n",
    "x_signal.plot(0, acquisition_duration)\n",
    "\n",
    "def B(t):\n",
    "    return np.random.normal(0,std)\n",
    "b_signal = Signal(B, sampling_frequency)\n",
    "b_signal.plot(0, acquisition_duration)\n",
    "\n",
    "S_signal = x_signal + b_signal\n",
    "S_signal.plot(0, acquisition_duration)"
   ]
  },
  {
   "cell_type": "code",
   "execution_count": null,
   "metadata": {},
   "outputs": [],
   "source": [
    "x_signal_autocor = x_signal.autocorrelation(0, 10)\n",
    "x_signal_autocor.plot(0, acquisition_duration)\n",
    "\n",
    "b_signal_autocor = b_signal.autocorrelation(0, 10)"
   ]
  }
 ],
 "metadata": {
  "kernelspec": {
   "display_name": "venv",
   "language": "python",
   "name": "python3"
  },
  "language_info": {
   "name": "python",
   "version": "3.12.3"
  }
 },
 "nbformat": 4,
 "nbformat_minor": 2
}
